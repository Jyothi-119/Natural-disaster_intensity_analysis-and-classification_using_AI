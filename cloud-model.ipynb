{
 "cells": [
  {
   "cell_type": "code",
   "execution_count": 1,
   "id": "5592a913",
   "metadata": {},
   "outputs": [
    {
     "name": "stdout",
     "output_type": "stream",
     "text": [
      "Collecting watson-machine-learning-client\n",
      "  Downloading https://files.pythonhosted.org/packages/df/ec/f2e7a189b2485e2e0bae65ee317c60347889f44c246de0b0acb451ae1a68/watson_machine_learning_client-1.0.391-py3-none-any.whl (538kB)\n",
      "Collecting pandas (from watson-machine-learning-client)\n",
      "  Downloading https://files.pythonhosted.org/packages/c3/6c/ea362eef61f05553aaf1a24b3e96b2d0603f5dc71a3bd35688a24ed88843/pandas-2.0.3-cp38-cp38-win_amd64.whl (10.8MB)\n",
      "Requirement already satisfied: urllib3 in c:\\users\\k.jyothi sree\\appdata\\local\\programs\\python\\python38\\lib\\site-packages (from watson-machine-learning-client) (1.26.10)\n",
      "Collecting lomond (from watson-machine-learning-client)\n",
      "  Downloading https://files.pythonhosted.org/packages/0f/b1/02eebed49c754b01b17de7705caa8c4ceecfb4f926cdafc220c863584360/lomond-0.3.3-py2.py3-none-any.whl\n",
      "Requirement already satisfied: requests in c:\\users\\k.jyothi sree\\appdata\\local\\programs\\python\\python38\\lib\\site-packages (from watson-machine-learning-client) (2.28.1)\n",
      "Collecting boto3 (from watson-machine-learning-client)\n",
      "  Downloading https://files.pythonhosted.org/packages/e3/9c/5f339f649a888d7d016d505dd5a47c3d47ec0e550340e4e932a5718d549e/boto3-1.28.16-py3-none-any.whl (135kB)\n",
      "Collecting tqdm (from watson-machine-learning-client)\n",
      "  Downloading https://files.pythonhosted.org/packages/e6/02/a2cff6306177ae6bc73bc0665065de51dfb3b9db7373e122e2735faf0d97/tqdm-4.65.0-py3-none-any.whl (77kB)\n",
      "Requirement already satisfied: certifi in c:\\users\\k.jyothi sree\\appdata\\local\\programs\\python\\python38\\lib\\site-packages (from watson-machine-learning-client) (2022.6.15)\n",
      "Collecting tabulate (from watson-machine-learning-client)\n",
      "  Downloading https://files.pythonhosted.org/packages/40/44/4a5f08c96eb108af5cb50b41f76142f0afa346dfa99d5296fe7202a11854/tabulate-0.9.0-py3-none-any.whl\n",
      "Collecting ibm-cos-sdk (from watson-machine-learning-client)\n",
      "  Downloading https://files.pythonhosted.org/packages/ae/56/82633f4c2c70b1ca3dee477cbf4777d4ff3b26937fed6af6921c4a483cee/ibm-cos-sdk-2.13.1.tar.gz (56kB)\n",
      "Collecting tzdata>=2022.1 (from pandas->watson-machine-learning-client)\n",
      "  Downloading https://files.pythonhosted.org/packages/d5/fb/a79efcab32b8a1f1ddca7f35109a50e4a80d42ac1c9187ab46522b2407d7/tzdata-2023.3-py2.py3-none-any.whl (341kB)\n",
      "Collecting pytz>=2020.1 (from pandas->watson-machine-learning-client)\n",
      "  Using cached https://files.pythonhosted.org/packages/7f/99/ad6bd37e748257dd70d6f85d916cafe79c0b0f5e2e95b11f7fbc82bf3110/pytz-2023.3-py2.py3-none-any.whl\n",
      "Collecting python-dateutil>=2.8.2 (from pandas->watson-machine-learning-client)\n",
      "  Using cached https://files.pythonhosted.org/packages/36/7a/87837f39d0296e723bb9b62bbb257d0355c7f6128853c78955f57342a56d/python_dateutil-2.8.2-py2.py3-none-any.whl\n",
      "Collecting numpy>=1.20.3; python_version < \"3.10\" (from pandas->watson-machine-learning-client)\n",
      "  Downloading https://files.pythonhosted.org/packages/69/65/0d47953afa0ad569d12de5f65d964321c208492064c38fe3b0b9744f8d44/numpy-1.24.4-cp38-cp38-win_amd64.whl (14.9MB)\n",
      "Requirement already satisfied: six>=1.10.0 in c:\\users\\k.jyothi sree\\appdata\\local\\programs\\python\\python38\\lib\\site-packages (from lomond->watson-machine-learning-client) (1.16.0)\n",
      "Requirement already satisfied: idna<4,>=2.5 in c:\\users\\k.jyothi sree\\appdata\\local\\programs\\python\\python38\\lib\\site-packages (from requests->watson-machine-learning-client) (3.3)\n",
      "Requirement already satisfied: charset-normalizer<3,>=2 in c:\\users\\k.jyothi sree\\appdata\\local\\programs\\python\\python38\\lib\\site-packages (from requests->watson-machine-learning-client) (2.1.0)\n",
      "Collecting botocore<1.32.0,>=1.31.16 (from boto3->watson-machine-learning-client)\n",
      "  Downloading https://files.pythonhosted.org/packages/d5/f7/8f6a279fd5ef2d4dc1962cee5fffaa45c7414e6e61e9886a0a04513ce569/botocore-1.31.16-py3-none-any.whl (11.1MB)\n",
      "Collecting s3transfer<0.7.0,>=0.6.0 (from boto3->watson-machine-learning-client)\n",
      "  Downloading https://files.pythonhosted.org/packages/ec/fa/9416461ee05efabe477d588288bdd88acb69a51ee4b31a9b73d3b5b716fc/s3transfer-0.6.1-py3-none-any.whl (79kB)\n",
      "Collecting jmespath<2.0.0,>=0.7.1 (from boto3->watson-machine-learning-client)\n",
      "  Downloading https://files.pythonhosted.org/packages/31/b4/b9b800c45527aadd64d5b442f9b932b00648617eb5d63d2c7a6587b7cafc/jmespath-1.0.1-py3-none-any.whl\n",
      "Requirement already satisfied: colorama; platform_system == \"Windows\" in c:\\users\\k.jyothi sree\\appdata\\local\\programs\\python\\python38\\lib\\site-packages (from tqdm->watson-machine-learning-client) (0.4.5)\n",
      "Collecting ibm-cos-sdk-core==2.13.1 (from ibm-cos-sdk->watson-machine-learning-client)\n",
      "  Downloading https://files.pythonhosted.org/packages/57/10/74a599af42d71a2bd8d9164e0de8fe9a2138dee51e364aad84d4397aabfa/ibm-cos-sdk-core-2.13.1.tar.gz (1.0MB)\n",
      "Collecting ibm-cos-sdk-s3transfer==2.13.1 (from ibm-cos-sdk->watson-machine-learning-client)\n",
      "  Downloading https://files.pythonhosted.org/packages/a5/f6/6311975a7d9c83bc8b9dd9b672a81dc119f7c707aa67e9733cd31c733667/ibm-cos-sdk-s3transfer-2.13.1.tar.gz (139kB)\n",
      "Installing collected packages: tzdata, pytz, python-dateutil, numpy, pandas, lomond, jmespath, botocore, s3transfer, boto3, tqdm, tabulate, ibm-cos-sdk-core, ibm-cos-sdk-s3transfer, ibm-cos-sdk, watson-machine-learning-client\n",
      "  Running setup.py install for ibm-cos-sdk-core: started\n",
      "    Running setup.py install for ibm-cos-sdk-core: finished with status 'done'\n",
      "  Running setup.py install for ibm-cos-sdk-s3transfer: started\n",
      "    Running setup.py install for ibm-cos-sdk-s3transfer: finished with status 'done'\n",
      "  Running setup.py install for ibm-cos-sdk: started\n",
      "    Running setup.py install for ibm-cos-sdk: finished with status 'done'\n",
      "Successfully installed boto3-1.28.16 botocore-1.31.16 ibm-cos-sdk-2.13.1 ibm-cos-sdk-core-2.13.1 ibm-cos-sdk-s3transfer-2.13.1 jmespath-1.0.1 lomond-0.3.3 numpy-1.24.4 pandas-2.0.3 python-dateutil-2.8.2 pytz-2023.3 s3transfer-0.6.1 tabulate-0.9.0 tqdm-4.65.0 tzdata-2023.3 watson-machine-learning-client-1.0.391\n"
     ]
    },
    {
     "name": "stderr",
     "output_type": "stream",
     "text": [
      "ERROR: ibm-cos-sdk-core 2.13.1 has requirement requests<3.0,>=2.31.0, but you'll have requests 2.28.1 which is incompatible.\n",
      "ERROR: ibm-cos-sdk-core 2.13.1 has requirement urllib3<1.27,>=1.26.15, but you'll have urllib3 1.26.10 which is incompatible.\n",
      "WARNING: You are using pip version 19.2.3, however version 23.2.1 is available.\n",
      "You should consider upgrading via the 'python -m pip install --upgrade pip' command.\n"
     ]
    }
   ],
   "source": [
    "!pip install watson-machine-learning-client"
   ]
  },
  {
   "cell_type": "code",
   "execution_count": 2,
   "id": "dc59915d",
   "metadata": {},
   "outputs": [
    {
     "ename": "ModuleNotFoundError",
     "evalue": "No module named 'ibm_watson_machine_learning'",
     "output_type": "error",
     "traceback": [
      "\u001b[1;31m---------------------------------------------------------------------------\u001b[0m",
      "\u001b[1;31mModuleNotFoundError\u001b[0m                       Traceback (most recent call last)",
      "Cell \u001b[1;32mIn[2], line 1\u001b[0m\n\u001b[1;32m----> 1\u001b[0m \u001b[39mfrom\u001b[39;00m \u001b[39mibm_watson_machine_learning\u001b[39;00m \u001b[39mimport\u001b[39;00m APIClient\n\u001b[0;32m      2\u001b[0m wml_credentials \u001b[39m=\u001b[39m {\n\u001b[0;32m      3\u001b[0m     \u001b[39m\"\u001b[39m\u001b[39murl\u001b[39m\u001b[39m\"\u001b[39m : \u001b[39m\"\u001b[39m\u001b[39mhttps://us-south.ml.cloud.ibm.com\u001b[39m\u001b[39m\"\u001b[39m,\n\u001b[0;32m      4\u001b[0m     \u001b[39m\"\u001b[39m\u001b[39mapikey\u001b[39m\u001b[39m\"\u001b[39m : \u001b[39m\"\u001b[39m\u001b[39m\"\u001b[39m\n\u001b[0;32m      5\u001b[0m }\n\u001b[0;32m      6\u001b[0m client \u001b[39m=\u001b[39m APIClient(wml_credentials)\n",
      "\u001b[1;31mModuleNotFoundError\u001b[0m: No module named 'ibm_watson_machine_learning'"
     ]
    }
   ],
   "source": [
    "from ibm_watson_machine_learning import APIClient\n",
    "wml_credentials = {\n",
    "    \"url\" : \"https://us-south.ml.cloud.ibm.com\",\n",
    "    \"apikey\" : \"\"\n",
    "}\n",
    "client = APIClient(wml_credentials)"
   ]
  },
  {
   "cell_type": "code",
   "execution_count": null,
   "id": "97ea60c8",
   "metadata": {},
   "outputs": [
    {
     "name": "stdout",
     "output_type": "stream",
     "text": [
      "Python 3.7 and 3.8 frameworks are deprecated and will be removed in a future release. Use Python 3.9 framework instead.\n"
     ]
    }
   ],
   "source": [
    "client = APIClient(wml_credentials)"
   ]
  },
  {
   "cell_type": "code",
   "execution_count": null,
   "id": "4948f953",
   "metadata": {},
   "outputs": [],
   "source": [
    "def guid_from_space_name(client, space_name):\n",
    "    space = client.spaces.get_details()\n",
    "    return(next(item for item in space['resources'] if item['entity']['name'] == space_name)['metadata']['id'])"
   ]
  },
  {
   "cell_type": "code",
   "execution_count": null,
   "id": "8a4e47c1",
   "metadata": {},
   "outputs": [
    {
     "name": "stdout",
     "output_type": "stream",
     "text": [
      "space uid: c5a8fe50-8690-4da3-87b1-5849ad114d23\n"
     ]
    }
   ],
   "source": [
    "space_uid = guid_from_space_name(client, 'Natural Disasters Intensity Analysis And Classification')\n",
    "print('space uid: ' + space_uid)"
   ]
  },
  {
   "cell_type": "code",
   "execution_count": null,
   "id": "a8205180",
   "metadata": {},
   "outputs": [
    {
     "data": {
      "text/plain": [
       "'SUCCESS'"
      ]
     },
     "execution_count": 73,
     "metadata": {},
     "output_type": "execute_result"
    }
   ],
   "source": [
    "client.set.default_space(space_uid)"
   ]
  },
  {
   "cell_type": "code",
   "execution_count": null,
   "id": "88cd072c",
   "metadata": {},
   "outputs": [
    {
     "name": "stdout",
     "output_type": "stream",
     "text": [
      "Successfully saved model content to file: 'natural_disaster.tar.gz'\n"
     ]
    },
    {
     "data": {
      "text/plain": [
       "'G:\\\\SI-GuidedProject-49371-1652769290/natural_disaster.tar.gz'"
      ]
     },
     "execution_count": 75,
     "metadata": {},
     "output_type": "execute_result"
    }
   ],
   "source": [
    "client.repository.download('8cd312fd-ea3e-4925-896f-a5f5cd36cc89', 'natural_disaster.tar.gz')"
   ]
  },
  {
   "cell_type": "code",
   "execution_count": null,
   "id": "4c20b593",
   "metadata": {},
   "outputs": [],
   "source": [
    "from tensorflow.keras.models import load_model\n",
    "from tensorflow.keras.preprocessing import image"
   ]
  },
  {
   "cell_type": "code",
   "execution_count": null,
   "id": "2bb52b49",
   "metadata": {},
   "outputs": [],
   "source": [
    "model = load_model(\"model.h5\")"
   ]
  },
  {
   "cell_type": "code",
   "execution_count": null,
   "id": "cff9c4d5",
   "metadata": {},
   "outputs": [
    {
     "data": {
      "image/png": "[encoded data removed]",
      "text/plain": [
       "<PIL.Image.Image image mode=RGB size=64x64 at 0x21E9C5D8340>"
      ]
     },
     "execution_count": 95,
     "metadata": {},
     "output_type": "execute_result"
    }
   ],
   "source": [
    "img = image.load_img(\"C:/Users/Avish Shah/Desktop/dataset/dataset/test_set/Flood/1039.jpg\", target_size = (64, 64))\n",
    "img"
   ]
  },
  {
   "cell_type": "code",
   "execution_count": null,
   "id": "c6fac10b",
   "metadata": {},
   "outputs": [
    {
     "name": "stdout",
     "output_type": "stream",
     "text": [
      "1/1 [==============================] - 0s 23ms/step\n"
     ]
    },
    {
     "data": {
      "text/plain": [
       "array([2], dtype=int64)"
      ]
     },
     "execution_count": 96,
     "metadata": {},
     "output_type": "execute_result"
    }
   ],
   "source": [
    "import numpy as np\n",
    "\n",
    "x = image.img_to_array(img)\n",
    "x = np.expand_dims(x, axis = 0)\n",
    "pred = np.argmax(model.predict(x), axis=-1)\n",
    "pred"
   ]
  },
  {
   "cell_type": "code",
   "execution_count": null,
   "id": "d4d4ae00",
   "metadata": {},
   "outputs": [
    {
     "data": {
      "text/plain": [
       "array('Flood', dtype='<U5')"
      ]
     },
     "execution_count": 97,
     "metadata": {},
     "output_type": "execute_result"
    }
   ],
   "source": [
    "index = ['Cyclone', 'Earthquake', 'Flood', 'WildFire']\n",
    "result = np.array(index[pred[0]])\n",
    "result"
   ]
  }
 ],
 "metadata": {
  "kernelspec": {
   "display_name": "Python 3",
   "language": "python",
   "name": "python3"
  },
  "language_info": {
   "codemirror_mode": {
    "name": "ipython",
    "version": 3
   },
   "file_extension": ".py",
   "mimetype": "text/x-python",
   "name": "python",
   "nbconvert_exporter": "python",
   "pygments_lexer": "ipython3",
   "version": "3.10.5"
  }
 },
 "nbformat": 4,
 "nbformat_minor": 5
}
